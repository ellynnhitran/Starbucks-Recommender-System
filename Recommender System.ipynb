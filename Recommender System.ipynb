{
 "cells": [
  {
   "cell_type": "code",
   "execution_count": 5,
   "metadata": {},
   "outputs": [],
   "source": [
    "import numpy as np\n",
    "import matplotlib.pyplot as plt\n",
    "import seaborn as sns\n",
    "from scipy import sparse, spatial\n",
    "import pandas as pd\n",
    "\n",
    "%matplotlib inline\n",
    "\n",
    "from plot_help import plot_confusion_matrix , make_svd_hist_plot, make_svd_heatmap_plot"
   ]
  },
  {
   "cell_type": "code",
   "execution_count": 6,
   "metadata": {},
   "outputs": [
    {
     "data": {
      "text/html": [
       "<div>\n",
       "<style scoped>\n",
       "    .dataframe tbody tr th:only-of-type {\n",
       "        vertical-align: middle;\n",
       "    }\n",
       "\n",
       "    .dataframe tbody tr th {\n",
       "        vertical-align: top;\n",
       "    }\n",
       "\n",
       "    .dataframe thead th {\n",
       "        text-align: right;\n",
       "    }\n",
       "</style>\n",
       "<table border=\"1\" class=\"dataframe\">\n",
       "  <thead>\n",
       "    <tr style=\"text-align: right;\">\n",
       "      <th></th>\n",
       "      <th>person</th>\n",
       "      <th>offer_id</th>\n",
       "      <th>offer received</th>\n",
       "      <th>offer viewed</th>\n",
       "      <th>offer completed</th>\n",
       "      <th>transaction</th>\n",
       "      <th>reward</th>\n",
       "      <th>amount</th>\n",
       "      <th>difficulty</th>\n",
       "      <th>email</th>\n",
       "      <th>mobile</th>\n",
       "      <th>social</th>\n",
       "      <th>web</th>\n",
       "      <th>bogo</th>\n",
       "      <th>discount</th>\n",
       "      <th>informational</th>\n",
       "    </tr>\n",
       "  </thead>\n",
       "  <tbody>\n",
       "    <tr>\n",
       "      <td>0</td>\n",
       "      <td>0</td>\n",
       "      <td>4</td>\n",
       "      <td>1</td>\n",
       "      <td>1</td>\n",
       "      <td>1</td>\n",
       "      <td>3</td>\n",
       "      <td>3.0</td>\n",
       "      <td>7.54</td>\n",
       "      <td>7</td>\n",
       "      <td>1</td>\n",
       "      <td>1</td>\n",
       "      <td>1</td>\n",
       "      <td>1</td>\n",
       "      <td>0</td>\n",
       "      <td>1</td>\n",
       "      <td>0</td>\n",
       "    </tr>\n",
       "    <tr>\n",
       "      <td>1</td>\n",
       "      <td>0</td>\n",
       "      <td>7</td>\n",
       "      <td>2</td>\n",
       "      <td>2</td>\n",
       "      <td>1</td>\n",
       "      <td>2</td>\n",
       "      <td>2.0</td>\n",
       "      <td>2.63</td>\n",
       "      <td>10</td>\n",
       "      <td>2</td>\n",
       "      <td>2</td>\n",
       "      <td>2</td>\n",
       "      <td>2</td>\n",
       "      <td>0</td>\n",
       "      <td>1</td>\n",
       "      <td>0</td>\n",
       "    </tr>\n",
       "    <tr>\n",
       "      <td>2</td>\n",
       "      <td>0</td>\n",
       "      <td>8</td>\n",
       "      <td>1</td>\n",
       "      <td>1</td>\n",
       "      <td>0</td>\n",
       "      <td>0</td>\n",
       "      <td>0.0</td>\n",
       "      <td>0.00</td>\n",
       "      <td>10</td>\n",
       "      <td>1</td>\n",
       "      <td>1</td>\n",
       "      <td>0</td>\n",
       "      <td>1</td>\n",
       "      <td>0</td>\n",
       "      <td>1</td>\n",
       "      <td>0</td>\n",
       "    </tr>\n",
       "    <tr>\n",
       "      <td>3</td>\n",
       "      <td>0</td>\n",
       "      <td>9</td>\n",
       "      <td>1</td>\n",
       "      <td>1</td>\n",
       "      <td>0</td>\n",
       "      <td>1</td>\n",
       "      <td>0.0</td>\n",
       "      <td>0.35</td>\n",
       "      <td>20</td>\n",
       "      <td>1</td>\n",
       "      <td>0</td>\n",
       "      <td>0</td>\n",
       "      <td>1</td>\n",
       "      <td>0</td>\n",
       "      <td>1</td>\n",
       "      <td>0</td>\n",
       "    </tr>\n",
       "    <tr>\n",
       "      <td>4</td>\n",
       "      <td>1</td>\n",
       "      <td>0</td>\n",
       "      <td>1</td>\n",
       "      <td>0</td>\n",
       "      <td>0</td>\n",
       "      <td>0</td>\n",
       "      <td>0.0</td>\n",
       "      <td>0.00</td>\n",
       "      <td>0</td>\n",
       "      <td>1</td>\n",
       "      <td>1</td>\n",
       "      <td>0</td>\n",
       "      <td>1</td>\n",
       "      <td>0</td>\n",
       "      <td>0</td>\n",
       "      <td>1</td>\n",
       "    </tr>\n",
       "    <tr>\n",
       "      <td>5</td>\n",
       "      <td>1</td>\n",
       "      <td>2</td>\n",
       "      <td>1</td>\n",
       "      <td>0</td>\n",
       "      <td>1</td>\n",
       "      <td>0</td>\n",
       "      <td>5.0</td>\n",
       "      <td>0.00</td>\n",
       "      <td>5</td>\n",
       "      <td>1</td>\n",
       "      <td>1</td>\n",
       "      <td>0</td>\n",
       "      <td>1</td>\n",
       "      <td>1</td>\n",
       "      <td>0</td>\n",
       "      <td>0</td>\n",
       "    </tr>\n",
       "    <tr>\n",
       "      <td>6</td>\n",
       "      <td>2</td>\n",
       "      <td>1</td>\n",
       "      <td>1</td>\n",
       "      <td>1</td>\n",
       "      <td>0</td>\n",
       "      <td>0</td>\n",
       "      <td>0.0</td>\n",
       "      <td>0.00</td>\n",
       "      <td>0</td>\n",
       "      <td>1</td>\n",
       "      <td>1</td>\n",
       "      <td>1</td>\n",
       "      <td>0</td>\n",
       "      <td>0</td>\n",
       "      <td>0</td>\n",
       "      <td>1</td>\n",
       "    </tr>\n",
       "    <tr>\n",
       "      <td>7</td>\n",
       "      <td>2</td>\n",
       "      <td>2</td>\n",
       "      <td>1</td>\n",
       "      <td>1</td>\n",
       "      <td>0</td>\n",
       "      <td>0</td>\n",
       "      <td>0.0</td>\n",
       "      <td>0.00</td>\n",
       "      <td>5</td>\n",
       "      <td>1</td>\n",
       "      <td>1</td>\n",
       "      <td>0</td>\n",
       "      <td>1</td>\n",
       "      <td>1</td>\n",
       "      <td>0</td>\n",
       "      <td>0</td>\n",
       "    </tr>\n",
       "    <tr>\n",
       "      <td>8</td>\n",
       "      <td>3</td>\n",
       "      <td>1</td>\n",
       "      <td>1</td>\n",
       "      <td>1</td>\n",
       "      <td>0</td>\n",
       "      <td>2</td>\n",
       "      <td>0.0</td>\n",
       "      <td>49.39</td>\n",
       "      <td>0</td>\n",
       "      <td>1</td>\n",
       "      <td>1</td>\n",
       "      <td>1</td>\n",
       "      <td>0</td>\n",
       "      <td>0</td>\n",
       "      <td>0</td>\n",
       "      <td>1</td>\n",
       "    </tr>\n",
       "    <tr>\n",
       "      <td>9</td>\n",
       "      <td>3</td>\n",
       "      <td>2</td>\n",
       "      <td>1</td>\n",
       "      <td>1</td>\n",
       "      <td>1</td>\n",
       "      <td>1</td>\n",
       "      <td>5.0</td>\n",
       "      <td>19.89</td>\n",
       "      <td>5</td>\n",
       "      <td>1</td>\n",
       "      <td>1</td>\n",
       "      <td>0</td>\n",
       "      <td>1</td>\n",
       "      <td>1</td>\n",
       "      <td>0</td>\n",
       "      <td>0</td>\n",
       "    </tr>\n",
       "  </tbody>\n",
       "</table>\n",
       "</div>"
      ],
      "text/plain": [
       "   person  offer_id  offer received  offer viewed  offer completed  \\\n",
       "0       0         4               1             1                1   \n",
       "1       0         7               2             2                1   \n",
       "2       0         8               1             1                0   \n",
       "3       0         9               1             1                0   \n",
       "4       1         0               1             0                0   \n",
       "5       1         2               1             0                1   \n",
       "6       2         1               1             1                0   \n",
       "7       2         2               1             1                0   \n",
       "8       3         1               1             1                0   \n",
       "9       3         2               1             1                1   \n",
       "\n",
       "   transaction  reward  amount  difficulty  email  mobile  social  web  bogo  \\\n",
       "0            3     3.0    7.54           7      1       1       1    1     0   \n",
       "1            2     2.0    2.63          10      2       2       2    2     0   \n",
       "2            0     0.0    0.00          10      1       1       0    1     0   \n",
       "3            1     0.0    0.35          20      1       0       0    1     0   \n",
       "4            0     0.0    0.00           0      1       1       0    1     0   \n",
       "5            0     5.0    0.00           5      1       1       0    1     1   \n",
       "6            0     0.0    0.00           0      1       1       1    0     0   \n",
       "7            0     0.0    0.00           5      1       1       0    1     1   \n",
       "8            2     0.0   49.39           0      1       1       1    0     0   \n",
       "9            1     5.0   19.89           5      1       1       0    1     1   \n",
       "\n",
       "   discount  informational  \n",
       "0         1              0  \n",
       "1         1              0  \n",
       "2         1              0  \n",
       "3         1              0  \n",
       "4         0              1  \n",
       "5         0              0  \n",
       "6         0              1  \n",
       "7         0              0  \n",
       "8         0              1  \n",
       "9         0              0  "
      ]
     },
     "execution_count": 6,
     "metadata": {},
     "output_type": "execute_result"
    }
   ],
   "source": [
    "transcript = pd.read_csv(\"data/full_transcript.csv\", index_col=0)\n",
    "transcript['offer_id'] = transcript['offer_id'].astype(int)\n",
    "transcript.head(10)"
   ]
  },
  {
   "cell_type": "code",
   "execution_count": 7,
   "metadata": {},
   "outputs": [
    {
     "data": {
      "text/html": [
       "<div>\n",
       "<style scoped>\n",
       "    .dataframe tbody tr th:only-of-type {\n",
       "        vertical-align: middle;\n",
       "    }\n",
       "\n",
       "    .dataframe tbody tr th {\n",
       "        vertical-align: top;\n",
       "    }\n",
       "\n",
       "    .dataframe thead th {\n",
       "        text-align: right;\n",
       "    }\n",
       "</style>\n",
       "<table border=\"1\" class=\"dataframe\">\n",
       "  <thead>\n",
       "    <tr style=\"text-align: right;\">\n",
       "      <th></th>\n",
       "      <th>offer received</th>\n",
       "      <th>offer viewed</th>\n",
       "      <th>offer completed</th>\n",
       "      <th>transaction</th>\n",
       "      <th>reward_infl</th>\n",
       "      <th>amount_infl</th>\n",
       "      <th>email</th>\n",
       "      <th>mobile</th>\n",
       "      <th>social</th>\n",
       "      <th>web</th>\n",
       "      <th>...</th>\n",
       "      <th>avg_difficulty</th>\n",
       "      <th>time_to_open</th>\n",
       "      <th>time_to_complete</th>\n",
       "      <th>total_amount</th>\n",
       "      <th>amount_pct</th>\n",
       "      <th>age</th>\n",
       "      <th>gender</th>\n",
       "      <th>income</th>\n",
       "      <th>seen_ratio</th>\n",
       "      <th>completed_ratio</th>\n",
       "    </tr>\n",
       "    <tr>\n",
       "      <th>person</th>\n",
       "      <th></th>\n",
       "      <th></th>\n",
       "      <th></th>\n",
       "      <th></th>\n",
       "      <th></th>\n",
       "      <th></th>\n",
       "      <th></th>\n",
       "      <th></th>\n",
       "      <th></th>\n",
       "      <th></th>\n",
       "      <th></th>\n",
       "      <th></th>\n",
       "      <th></th>\n",
       "      <th></th>\n",
       "      <th></th>\n",
       "      <th></th>\n",
       "      <th></th>\n",
       "      <th></th>\n",
       "      <th></th>\n",
       "      <th></th>\n",
       "      <th></th>\n",
       "    </tr>\n",
       "  </thead>\n",
       "  <tbody>\n",
       "    <tr>\n",
       "      <td>0.0</td>\n",
       "      <td>5.0</td>\n",
       "      <td>5.0</td>\n",
       "      <td>2.0</td>\n",
       "      <td>6.0</td>\n",
       "      <td>5.0</td>\n",
       "      <td>10.52</td>\n",
       "      <td>5.0</td>\n",
       "      <td>4.0</td>\n",
       "      <td>3.0</td>\n",
       "      <td>5.0</td>\n",
       "      <td>...</td>\n",
       "      <td>12.0</td>\n",
       "      <td>0.083929</td>\n",
       "      <td>0.285714</td>\n",
       "      <td>20.40</td>\n",
       "      <td>0.515686</td>\n",
       "      <td>55.0</td>\n",
       "      <td>2.0</td>\n",
       "      <td>64000.0</td>\n",
       "      <td>1.0</td>\n",
       "      <td>0.40</td>\n",
       "    </tr>\n",
       "    <tr>\n",
       "      <td>1.0</td>\n",
       "      <td>2.0</td>\n",
       "      <td>0.0</td>\n",
       "      <td>1.0</td>\n",
       "      <td>0.0</td>\n",
       "      <td>5.0</td>\n",
       "      <td>0.00</td>\n",
       "      <td>2.0</td>\n",
       "      <td>2.0</td>\n",
       "      <td>0.0</td>\n",
       "      <td>2.0</td>\n",
       "      <td>...</td>\n",
       "      <td>2.0</td>\n",
       "      <td>1.000000</td>\n",
       "      <td>1.000000</td>\n",
       "      <td>77.01</td>\n",
       "      <td>0.000000</td>\n",
       "      <td>55.0</td>\n",
       "      <td>0.0</td>\n",
       "      <td>112000.0</td>\n",
       "      <td>0.0</td>\n",
       "      <td>0.50</td>\n",
       "    </tr>\n",
       "    <tr>\n",
       "      <td>2.0</td>\n",
       "      <td>2.0</td>\n",
       "      <td>2.0</td>\n",
       "      <td>0.0</td>\n",
       "      <td>0.0</td>\n",
       "      <td>0.0</td>\n",
       "      <td>0.00</td>\n",
       "      <td>2.0</td>\n",
       "      <td>2.0</td>\n",
       "      <td>1.0</td>\n",
       "      <td>1.0</td>\n",
       "      <td>...</td>\n",
       "      <td>2.0</td>\n",
       "      <td>0.000000</td>\n",
       "      <td>1.000000</td>\n",
       "      <td>14.30</td>\n",
       "      <td>0.000000</td>\n",
       "      <td>55.0</td>\n",
       "      <td>2.0</td>\n",
       "      <td>64000.0</td>\n",
       "      <td>1.0</td>\n",
       "      <td>0.00</td>\n",
       "    </tr>\n",
       "    <tr>\n",
       "      <td>3.0</td>\n",
       "      <td>4.0</td>\n",
       "      <td>4.0</td>\n",
       "      <td>3.0</td>\n",
       "      <td>3.0</td>\n",
       "      <td>20.0</td>\n",
       "      <td>69.28</td>\n",
       "      <td>4.0</td>\n",
       "      <td>4.0</td>\n",
       "      <td>3.0</td>\n",
       "      <td>2.0</td>\n",
       "      <td>...</td>\n",
       "      <td>5.0</td>\n",
       "      <td>0.234127</td>\n",
       "      <td>0.785714</td>\n",
       "      <td>159.27</td>\n",
       "      <td>0.434985</td>\n",
       "      <td>75.0</td>\n",
       "      <td>0.0</td>\n",
       "      <td>100000.0</td>\n",
       "      <td>1.0</td>\n",
       "      <td>0.75</td>\n",
       "    </tr>\n",
       "    <tr>\n",
       "      <td>4.0</td>\n",
       "      <td>5.0</td>\n",
       "      <td>3.0</td>\n",
       "      <td>0.0</td>\n",
       "      <td>1.0</td>\n",
       "      <td>0.0</td>\n",
       "      <td>1.09</td>\n",
       "      <td>5.0</td>\n",
       "      <td>2.0</td>\n",
       "      <td>1.0</td>\n",
       "      <td>4.0</td>\n",
       "      <td>...</td>\n",
       "      <td>7.0</td>\n",
       "      <td>0.012500</td>\n",
       "      <td>1.000000</td>\n",
       "      <td>4.65</td>\n",
       "      <td>0.234409</td>\n",
       "      <td>55.0</td>\n",
       "      <td>2.0</td>\n",
       "      <td>64000.0</td>\n",
       "      <td>0.6</td>\n",
       "      <td>0.00</td>\n",
       "    </tr>\n",
       "  </tbody>\n",
       "</table>\n",
       "<p>5 rows × 23 columns</p>\n",
       "</div>"
      ],
      "text/plain": [
       "        offer received  offer viewed  offer completed  transaction  \\\n",
       "person                                                               \n",
       "0.0                5.0           5.0              2.0          6.0   \n",
       "1.0                2.0           0.0              1.0          0.0   \n",
       "2.0                2.0           2.0              0.0          0.0   \n",
       "3.0                4.0           4.0              3.0          3.0   \n",
       "4.0                5.0           3.0              0.0          1.0   \n",
       "\n",
       "        reward_infl  amount_infl  email  mobile  social  web  ...  \\\n",
       "person                                                        ...   \n",
       "0.0             5.0        10.52    5.0     4.0     3.0  5.0  ...   \n",
       "1.0             5.0         0.00    2.0     2.0     0.0  2.0  ...   \n",
       "2.0             0.0         0.00    2.0     2.0     1.0  1.0  ...   \n",
       "3.0            20.0        69.28    4.0     4.0     3.0  2.0  ...   \n",
       "4.0             0.0         1.09    5.0     2.0     1.0  4.0  ...   \n",
       "\n",
       "        avg_difficulty  time_to_open  time_to_complete  total_amount  \\\n",
       "person                                                                 \n",
       "0.0               12.0      0.083929          0.285714         20.40   \n",
       "1.0                2.0      1.000000          1.000000         77.01   \n",
       "2.0                2.0      0.000000          1.000000         14.30   \n",
       "3.0                5.0      0.234127          0.785714        159.27   \n",
       "4.0                7.0      0.012500          1.000000          4.65   \n",
       "\n",
       "        amount_pct   age  gender    income  seen_ratio  completed_ratio  \n",
       "person                                                                   \n",
       "0.0       0.515686  55.0     2.0   64000.0         1.0             0.40  \n",
       "1.0       0.000000  55.0     0.0  112000.0         0.0             0.50  \n",
       "2.0       0.000000  55.0     2.0   64000.0         1.0             0.00  \n",
       "3.0       0.434985  75.0     0.0  100000.0         1.0             0.75  \n",
       "4.0       0.234409  55.0     2.0   64000.0         0.6             0.00  \n",
       "\n",
       "[5 rows x 23 columns]"
      ]
     },
     "execution_count": 7,
     "metadata": {},
     "output_type": "execute_result"
    }
   ],
   "source": [
    "user_df = pd.read_csv(\"data/user_df_median.csv\", index_col=1)\n",
    "user_df = user_df.drop(columns=['Unnamed: 0'])\n",
    "\n",
    "user_df.head()"
   ]
  },
  {
   "cell_type": "code",
   "execution_count": 8,
   "metadata": {},
   "outputs": [],
   "source": [
    "user_df_scaled = pd.read_csv(\"data/user_scaled.csv\")\n"
   ]
  },
  {
   "cell_type": "code",
   "execution_count": 9,
   "metadata": {},
   "outputs": [
    {
     "data": {
      "text/plain": [
       "Index(['offer received', 'offer viewed', 'offer completed', 'transaction',\n",
       "       'reward_infl', 'amount_infl', 'email', 'mobile', 'social', 'web',\n",
       "       'bogo', 'discount', 'informational', 'avg_difficulty', 'time_to_open',\n",
       "       'time_to_complete', 'total_amount', 'amount_pct', 'age', 'gender',\n",
       "       'income', 'seen_ratio', 'completed_ratio'],\n",
       "      dtype='object')"
      ]
     },
     "execution_count": 9,
     "metadata": {},
     "output_type": "execute_result"
    }
   ],
   "source": [
    "user_df.columns\n"
   ]
  },
  {
   "cell_type": "code",
   "execution_count": 10,
   "metadata": {},
   "outputs": [
    {
     "data": {
      "text/html": [
       "<div>\n",
       "<style scoped>\n",
       "    .dataframe tbody tr th:only-of-type {\n",
       "        vertical-align: middle;\n",
       "    }\n",
       "\n",
       "    .dataframe tbody tr th {\n",
       "        vertical-align: top;\n",
       "    }\n",
       "\n",
       "    .dataframe thead th {\n",
       "        text-align: right;\n",
       "    }\n",
       "</style>\n",
       "<table border=\"1\" class=\"dataframe\">\n",
       "  <thead>\n",
       "    <tr style=\"text-align: right;\">\n",
       "      <th></th>\n",
       "      <th>offer received</th>\n",
       "      <th>offer viewed</th>\n",
       "      <th>amount</th>\n",
       "      <th>view_ratio</th>\n",
       "      <th>amount_per_view</th>\n",
       "    </tr>\n",
       "    <tr>\n",
       "      <th>offer_id</th>\n",
       "      <th></th>\n",
       "      <th></th>\n",
       "      <th></th>\n",
       "      <th></th>\n",
       "      <th></th>\n",
       "    </tr>\n",
       "  </thead>\n",
       "  <tbody>\n",
       "    <tr>\n",
       "      <td>0</td>\n",
       "      <td>7617</td>\n",
       "      <td>4144</td>\n",
       "      <td>39591.26</td>\n",
       "      <td>0.544046</td>\n",
       "      <td>9.553875</td>\n",
       "    </tr>\n",
       "    <tr>\n",
       "      <td>1</td>\n",
       "      <td>7618</td>\n",
       "      <td>6687</td>\n",
       "      <td>54291.40</td>\n",
       "      <td>0.877789</td>\n",
       "      <td>8.118947</td>\n",
       "    </tr>\n",
       "    <tr>\n",
       "      <td>2</td>\n",
       "      <td>7677</td>\n",
       "      <td>4171</td>\n",
       "      <td>26874.43</td>\n",
       "      <td>0.543311</td>\n",
       "      <td>6.443162</td>\n",
       "    </tr>\n",
       "    <tr>\n",
       "      <td>3</td>\n",
       "      <td>7571</td>\n",
       "      <td>7264</td>\n",
       "      <td>55226.14</td>\n",
       "      <td>0.959451</td>\n",
       "      <td>7.602718</td>\n",
       "    </tr>\n",
       "    <tr>\n",
       "      <td>4</td>\n",
       "      <td>7646</td>\n",
       "      <td>7337</td>\n",
       "      <td>54806.01</td>\n",
       "      <td>0.959587</td>\n",
       "      <td>7.469812</td>\n",
       "    </tr>\n",
       "    <tr>\n",
       "      <td>5</td>\n",
       "      <td>7658</td>\n",
       "      <td>6716</td>\n",
       "      <td>58728.75</td>\n",
       "      <td>0.876991</td>\n",
       "      <td>8.744602</td>\n",
       "    </tr>\n",
       "    <tr>\n",
       "      <td>6</td>\n",
       "      <td>7593</td>\n",
       "      <td>7298</td>\n",
       "      <td>58246.78</td>\n",
       "      <td>0.961148</td>\n",
       "      <td>7.981198</td>\n",
       "    </tr>\n",
       "    <tr>\n",
       "      <td>7</td>\n",
       "      <td>7597</td>\n",
       "      <td>7327</td>\n",
       "      <td>63546.65</td>\n",
       "      <td>0.964460</td>\n",
       "      <td>8.672943</td>\n",
       "    </tr>\n",
       "    <tr>\n",
       "      <td>8</td>\n",
       "      <td>7632</td>\n",
       "      <td>4118</td>\n",
       "      <td>31817.55</td>\n",
       "      <td>0.539570</td>\n",
       "      <td>7.726457</td>\n",
       "    </tr>\n",
       "    <tr>\n",
       "      <td>9</td>\n",
       "      <td>7668</td>\n",
       "      <td>2663</td>\n",
       "      <td>26772.21</td>\n",
       "      <td>0.347287</td>\n",
       "      <td>10.053402</td>\n",
       "    </tr>\n",
       "  </tbody>\n",
       "</table>\n",
       "</div>"
      ],
      "text/plain": [
       "          offer received  offer viewed    amount  view_ratio  amount_per_view\n",
       "offer_id                                                                     \n",
       "0                   7617          4144  39591.26    0.544046         9.553875\n",
       "1                   7618          6687  54291.40    0.877789         8.118947\n",
       "2                   7677          4171  26874.43    0.543311         6.443162\n",
       "3                   7571          7264  55226.14    0.959451         7.602718\n",
       "4                   7646          7337  54806.01    0.959587         7.469812\n",
       "5                   7658          6716  58728.75    0.876991         8.744602\n",
       "6                   7593          7298  58246.78    0.961148         7.981198\n",
       "7                   7597          7327  63546.65    0.964460         8.672943\n",
       "8                   7632          4118  31817.55    0.539570         7.726457\n",
       "9                   7668          2663  26772.21    0.347287        10.053402"
      ]
     },
     "execution_count": 10,
     "metadata": {},
     "output_type": "execute_result"
    }
   ],
   "source": [
    "transcript_offerid_sum = transcript.groupby(by='offer_id', as_index=True).sum()\n",
    "transcript_offerid_sum = transcript_offerid_sum[['offer received','offer viewed', 'amount']]\n",
    "transcript_offerid_sum['view_ratio'] = transcript_offerid_sum['offer viewed'] / transcript_offerid_sum['offer received']\n",
    "transcript_offerid_sum['amount_per_view'] = transcript_offerid_sum['amount'] / transcript_offerid_sum['offer viewed']\n",
    "\n",
    "transcript_offerid_sum"
   ]
  },
  {
   "cell_type": "code",
   "execution_count": 11,
   "metadata": {},
   "outputs": [],
   "source": [
    "def most_viewed_offer (transcript_offerid_sum, top_k=5):\n",
    "    \"\"\"\n",
    "    Returns the top k most popular offer ids\n",
    "    Inputs:\n",
    "    -transcript_offerid_sum(pandas): dataframe with offer id as index and statistics as columns\n",
    "    -topk(int): number of predictions\n",
    "    \"\"\"\n",
    "    \n",
    "    #get an upper bound estiamte\n",
    "    top_k_max = transcript_offerid_sum.shape[0]\n",
    "    \n",
    "    #replace upper bound\n",
    "    if top_k > top_k_max:\n",
    "        print(\"can't return more items than unique offer id\")\n",
    "        print(\"function will return  the maximum possible: {}\".format(top_k_max))\n",
    "        top_k = top_k_max\n",
    "    \n",
    "    #sort first by view ratio, then by money made per view\n",
    "    sorted_transcript = transcript_offerid_sum.sort_values(by=['view_ratio', 'amount_per_view'], ascending=False)\n",
    "    \n",
    "    top_offers = sorted_transcript.index.tolist()[:top_k]\n",
    "    \n",
    "    return top_offers"
   ]
  },
  {
   "cell_type": "code",
   "execution_count": 12,
   "metadata": {},
   "outputs": [
    {
     "data": {
      "text/plain": [
       "[7, 6, 4]"
      ]
     },
     "execution_count": 12,
     "metadata": {},
     "output_type": "execute_result"
    }
   ],
   "source": [
    "#Sample output\n",
    "most_viewed_offer(transcript_offerid_sum, top_k=3)"
   ]
  },
  {
   "cell_type": "code",
   "execution_count": 13,
   "metadata": {},
   "outputs": [
    {
     "name": "stdout",
     "output_type": "stream",
     "text": [
      "can't return more items than unique offer id\n",
      "function will return  the maximum possible: 10\n"
     ]
    },
    {
     "data": {
      "text/plain": [
       "[7, 6, 4, 3, 1, 5, 0, 2, 8, 9]"
      ]
     },
     "execution_count": 13,
     "metadata": {},
     "output_type": "execute_result"
    }
   ],
   "source": [
    "#Sample edge case\n",
    "most_viewed_offer(transcript_offerid_sum, top_k=300)"
   ]
  },
  {
   "cell_type": "code",
   "execution_count": 14,
   "metadata": {},
   "outputs": [],
   "source": [
    "def most_profit_offer (transcript_offerid_sum, top_k=5):\n",
    "    \"\"\"\n",
    "    Returns the top k most profitable offer ids\n",
    "    Inputs:\n",
    "    -transcript_offerid_sum(pandas): dataframe with offer id & view ratio\n",
    "    -topk(int): number of predictions\n",
    "    \"\"\"\n",
    "    \n",
    "    top_k_max = transcript_offerid_sum.shape[0]\n",
    "    \n",
    "    if top_k > top_k_max:\n",
    "        print(\"can't return more items than unique offer id\")\n",
    "        print(\"function will return  the maximum possible: {}\".format(top_k_max))\n",
    "        top_k = top_k_max\n",
    "        \n",
    "    sorted_transcript = transcript_offerid_sum.sort_values(by=['amount_per_view', 'view_ratio'], ascending=False)\n",
    "    \n",
    "    top_offers = sorted_transcript.index.tolist()[:top_k]\n",
    "    \n",
    "    \n",
    "    return top_offers"
   ]
  },
  {
   "cell_type": "code",
   "execution_count": 15,
   "metadata": {},
   "outputs": [
    {
     "data": {
      "text/plain": [
       "[9, 0, 5]"
      ]
     },
     "execution_count": 15,
     "metadata": {},
     "output_type": "execute_result"
    }
   ],
   "source": [
    "#sample output\n",
    "most_profit_offer (transcript_offerid_sum, top_k=3)"
   ]
  },
  {
   "cell_type": "code",
   "execution_count": 16,
   "metadata": {},
   "outputs": [
    {
     "name": "stdout",
     "output_type": "stream",
     "text": [
      "can't return more items than unique offer id\n",
      "function will return  the maximum possible: 10\n"
     ]
    },
    {
     "data": {
      "text/plain": [
       "[9, 0, 5, 7, 1, 6, 8, 3, 4, 2]"
      ]
     },
     "execution_count": 16,
     "metadata": {},
     "output_type": "execute_result"
    }
   ],
   "source": [
    "#edge case \n",
    "most_profit_offer (transcript_offerid_sum, top_k=3000)"
   ]
  },
  {
   "cell_type": "code",
   "execution_count": 17,
   "metadata": {},
   "outputs": [
    {
     "data": {
      "text/html": [
       "<div>\n",
       "<style scoped>\n",
       "    .dataframe tbody tr th:only-of-type {\n",
       "        vertical-align: middle;\n",
       "    }\n",
       "\n",
       "    .dataframe tbody tr th {\n",
       "        vertical-align: top;\n",
       "    }\n",
       "\n",
       "    .dataframe thead th {\n",
       "        text-align: right;\n",
       "    }\n",
       "</style>\n",
       "<table border=\"1\" class=\"dataframe\">\n",
       "  <thead>\n",
       "    <tr style=\"text-align: right;\">\n",
       "      <th></th>\n",
       "      <th>person</th>\n",
       "      <th>offer_id</th>\n",
       "      <th>offer viewed</th>\n",
       "    </tr>\n",
       "  </thead>\n",
       "  <tbody>\n",
       "    <tr>\n",
       "      <td>61215</td>\n",
       "      <td>16439</td>\n",
       "      <td>6</td>\n",
       "      <td>1</td>\n",
       "    </tr>\n",
       "    <tr>\n",
       "      <td>52925</td>\n",
       "      <td>14200</td>\n",
       "      <td>4</td>\n",
       "      <td>1</td>\n",
       "    </tr>\n",
       "    <tr>\n",
       "      <td>18851</td>\n",
       "      <td>5067</td>\n",
       "      <td>2</td>\n",
       "      <td>0</td>\n",
       "    </tr>\n",
       "    <tr>\n",
       "      <td>11497</td>\n",
       "      <td>3101</td>\n",
       "      <td>0</td>\n",
       "      <td>0</td>\n",
       "    </tr>\n",
       "    <tr>\n",
       "      <td>47586</td>\n",
       "      <td>12761</td>\n",
       "      <td>6</td>\n",
       "      <td>1</td>\n",
       "    </tr>\n",
       "  </tbody>\n",
       "</table>\n",
       "</div>"
      ],
      "text/plain": [
       "       person  offer_id  offer viewed\n",
       "61215   16439         6             1\n",
       "52925   14200         4             1\n",
       "18851    5067         2             0\n",
       "11497    3101         0             0\n",
       "47586   12761         6             1"
      ]
     },
     "execution_count": 17,
     "metadata": {},
     "output_type": "execute_result"
    }
   ],
   "source": [
    "user_views = transcript[['person', 'offer_id', 'offer viewed']]\n",
    "#shuffle the entries\n",
    "user_views = user_views.sample(frac=1)\n",
    "\n",
    "user_views.head()"
   ]
  },
  {
   "cell_type": "code",
   "execution_count": 18,
   "metadata": {},
   "outputs": [
    {
     "data": {
      "text/html": [
       "<div>\n",
       "<style scoped>\n",
       "    .dataframe tbody tr th:only-of-type {\n",
       "        vertical-align: middle;\n",
       "    }\n",
       "\n",
       "    .dataframe tbody tr th {\n",
       "        vertical-align: top;\n",
       "    }\n",
       "\n",
       "    .dataframe thead th {\n",
       "        text-align: right;\n",
       "    }\n",
       "</style>\n",
       "<table border=\"1\" class=\"dataframe\">\n",
       "  <thead>\n",
       "    <tr style=\"text-align: right;\">\n",
       "      <th>offer_id</th>\n",
       "      <th>0</th>\n",
       "      <th>1</th>\n",
       "      <th>2</th>\n",
       "      <th>3</th>\n",
       "      <th>4</th>\n",
       "      <th>5</th>\n",
       "      <th>6</th>\n",
       "      <th>7</th>\n",
       "      <th>8</th>\n",
       "      <th>9</th>\n",
       "    </tr>\n",
       "    <tr>\n",
       "      <th>person</th>\n",
       "      <th></th>\n",
       "      <th></th>\n",
       "      <th></th>\n",
       "      <th></th>\n",
       "      <th></th>\n",
       "      <th></th>\n",
       "      <th></th>\n",
       "      <th></th>\n",
       "      <th></th>\n",
       "      <th></th>\n",
       "    </tr>\n",
       "  </thead>\n",
       "  <tbody>\n",
       "    <tr>\n",
       "      <td>0</td>\n",
       "      <td>NaN</td>\n",
       "      <td>NaN</td>\n",
       "      <td>NaN</td>\n",
       "      <td>NaN</td>\n",
       "      <td>1.0</td>\n",
       "      <td>NaN</td>\n",
       "      <td>NaN</td>\n",
       "      <td>2.0</td>\n",
       "      <td>1.0</td>\n",
       "      <td>1.0</td>\n",
       "    </tr>\n",
       "    <tr>\n",
       "      <td>1</td>\n",
       "      <td>0.0</td>\n",
       "      <td>NaN</td>\n",
       "      <td>0.0</td>\n",
       "      <td>NaN</td>\n",
       "      <td>NaN</td>\n",
       "      <td>NaN</td>\n",
       "      <td>NaN</td>\n",
       "      <td>NaN</td>\n",
       "      <td>NaN</td>\n",
       "      <td>NaN</td>\n",
       "    </tr>\n",
       "    <tr>\n",
       "      <td>2</td>\n",
       "      <td>NaN</td>\n",
       "      <td>1.0</td>\n",
       "      <td>1.0</td>\n",
       "      <td>NaN</td>\n",
       "      <td>NaN</td>\n",
       "      <td>NaN</td>\n",
       "      <td>NaN</td>\n",
       "      <td>NaN</td>\n",
       "      <td>NaN</td>\n",
       "      <td>NaN</td>\n",
       "    </tr>\n",
       "    <tr>\n",
       "      <td>3</td>\n",
       "      <td>NaN</td>\n",
       "      <td>1.0</td>\n",
       "      <td>1.0</td>\n",
       "      <td>1.0</td>\n",
       "      <td>NaN</td>\n",
       "      <td>1.0</td>\n",
       "      <td>NaN</td>\n",
       "      <td>NaN</td>\n",
       "      <td>NaN</td>\n",
       "      <td>NaN</td>\n",
       "    </tr>\n",
       "    <tr>\n",
       "      <td>4</td>\n",
       "      <td>1.0</td>\n",
       "      <td>0.0</td>\n",
       "      <td>NaN</td>\n",
       "      <td>NaN</td>\n",
       "      <td>NaN</td>\n",
       "      <td>NaN</td>\n",
       "      <td>NaN</td>\n",
       "      <td>NaN</td>\n",
       "      <td>NaN</td>\n",
       "      <td>2.0</td>\n",
       "    </tr>\n",
       "  </tbody>\n",
       "</table>\n",
       "</div>"
      ],
      "text/plain": [
       "offer_id    0    1    2    3    4    5   6    7    8    9\n",
       "person                                                   \n",
       "0         NaN  NaN  NaN  NaN  1.0  NaN NaN  2.0  1.0  1.0\n",
       "1         0.0  NaN  0.0  NaN  NaN  NaN NaN  NaN  NaN  NaN\n",
       "2         NaN  1.0  1.0  NaN  NaN  NaN NaN  NaN  NaN  NaN\n",
       "3         NaN  1.0  1.0  1.0  NaN  1.0 NaN  NaN  NaN  NaN\n",
       "4         1.0  0.0  NaN  NaN  NaN  NaN NaN  NaN  NaN  2.0"
      ]
     },
     "execution_count": 18,
     "metadata": {},
     "output_type": "execute_result"
    }
   ],
   "source": [
    "\n",
    "# Create user-by-item matrix\n",
    "user_by_item = user_views.groupby(['person', 'offer_id'])['offer viewed'].max().unstack()\n",
    "\n",
    "\n",
    "#drop rows that are entirely nan\n",
    "user_by_item = user_by_item.dropna(how='all')\n",
    "\n",
    "user_by_item.head()"
   ]
  },
  {
   "cell_type": "code",
   "execution_count": 19,
   "metadata": {},
   "outputs": [],
   "source": [
    "\n",
    "def get_offers_seen(user_by_item, user):\n",
    "    \"\"\"\n",
    "    Get the offers seen by a user, sort by most viewed first\n",
    "    Inputs:\n",
    "    - user_by_user(pandas): user item matrix with user as index and offer id as column\n",
    "    - user(int): the user id\n",
    "    \n",
    "    Output:\n",
    "    - offers_seen(list): an array of offers seen\n",
    "    \"\"\"\n",
    "    \n",
    "    #get seen offers\n",
    "    user_offers_seen = user_by_item.loc[user][user_by_item.loc[user].isna()==False]\n",
    "    \n",
    "    #sort by descending order\n",
    "    user_offers_seen = user_offers_seen.sort_values(ascending=False)\n",
    "    \n",
    "    #get values\n",
    "    user_offers_seen = user_offers_seen.index.values.tolist()\n",
    "    \n",
    "    return user_offers_seen"
   ]
  },
  {
   "cell_type": "code",
   "execution_count": 20,
   "metadata": {},
   "outputs": [],
   "source": [
    "def create_user_offer_dict(user_by_item):\n",
    "    \"\"\"\n",
    "    Input:\n",
    "    - user_by_user(pandas): user item matrix with user as index and offer id as column\n",
    "    Output:\n",
    "    offers_seen(dict): user ID as key and offers viewed as values\n",
    "    \"\"\"\n",
    "    \n",
    "    #dict key is user and values are offers seen\n",
    "    offers_seen = dict()\n",
    "    \n",
    "    #for each user get the offers seen\n",
    "    for user in user_by_item.index:\n",
    "        offers_seen[user] = get_offers_seen(user_by_item, user)\n",
    "        \n",
    "    return offers_seen"
   ]
  },
  {
   "cell_type": "code",
   "execution_count": 21,
   "metadata": {},
   "outputs": [],
   "source": [
    "#get a dict of seen offers\n",
    "offers_seen_dict = create_user_offer_dict(user_by_item)"
   ]
  },
  {
   "cell_type": "code",
   "execution_count": 22,
   "metadata": {},
   "outputs": [
    {
     "data": {
      "text/plain": [
       "[7, 9, 8, 4]"
      ]
     },
     "execution_count": 22,
     "metadata": {},
     "output_type": "execute_result"
    }
   ],
   "source": [
    "#get sample output\n",
    "offers_seen_dict[0]"
   ]
  },
  {
   "cell_type": "code",
   "execution_count": 23,
   "metadata": {},
   "outputs": [],
   "source": [
    "def compute_similarity_euclid(user1_id, user2_id,user_df=user_df):\n",
    "    \"\"\"\n",
    "    Compute the euclidian distance between two users\n",
    "    Inputs:\n",
    "    - user1(int): fist user id\n",
    "    - user2(int): second user id\n",
    "    - user_df(pandas): features about users\n",
    "    Output:\n",
    "    - norm(numpy.float64): norm between two users\n",
    "    \"\"\"\n",
    "    #get user rows\n",
    "    user1 = user_df.loc[user1_id]\n",
    "    user2 = user_df.loc[user2_id]\n",
    "    \n",
    "    #ge the difference\n",
    "    diff = user1 - user2\n",
    "    \n",
    "    #drop nans\n",
    "    diff= diff.dropna()\n",
    "    \n",
    "    #calculate the norm\n",
    "    norm = np.linalg.norm(diff)\n",
    "    \n",
    "    return norm"
   ]
  },
  {
   "cell_type": "code",
   "execution_count": 24,
   "metadata": {},
   "outputs": [
    {
     "data": {
      "text/plain": [
       "84.93585510237546"
      ]
     },
     "execution_count": 24,
     "metadata": {},
     "output_type": "execute_result"
    }
   ],
   "source": [
    "#sample output\n",
    "compute_similarity_euclid(5, 32)"
   ]
  },
  {
   "cell_type": "code",
   "execution_count": 25,
   "metadata": {},
   "outputs": [],
   "source": [
    "def compute_similarity_corr(user1_id, user2_id, user_df=user_df, method='pearson'):\n",
    "    \"\"\"\n",
    "    Compute the pearson correlation  between two users\n",
    "    Inputs:\n",
    "    - user1(int): fist user id\n",
    "    - user2(int): second user id\n",
    "    - user_df(pandas): features about users\n",
    "    Output:\n",
    "    - corr(numpy.float64): correlation\n",
    "    \"\"\"\n",
    "    \n",
    "    #make dataframe from user ids\n",
    "    df_corr = user_df.loc[[user1_id, user2_id]]\n",
    "    \n",
    "    #get correlation and select term off the diagonal\n",
    "    corr = df_corr.transpose().corr(method).iloc[0,1]\n",
    "    \n",
    "    return corr"
   ]
  },
  {
   "cell_type": "code",
   "execution_count": 26,
   "metadata": {},
   "outputs": [
    {
     "data": {
      "text/plain": [
       "0.999998235549934"
      ]
     },
     "execution_count": 26,
     "metadata": {},
     "output_type": "execute_result"
    }
   ],
   "source": [
    "compute_similarity_corr(42, 1)"
   ]
  },
  {
   "cell_type": "code",
   "execution_count": 27,
   "metadata": {},
   "outputs": [
    {
     "data": {
      "text/plain": [
       "0.45560568900151466"
      ]
     },
     "execution_count": 27,
     "metadata": {},
     "output_type": "execute_result"
    }
   ],
   "source": [
    "compute_similarity_corr(42, 1, method='kendall')\n"
   ]
  },
  {
   "cell_type": "code",
   "execution_count": 28,
   "metadata": {},
   "outputs": [],
   "source": [
    "def compute_similarity_cosine(user1_id, user2_id,user_df=user_df):\n",
    "    \"\"\"\n",
    "    Compute the cosine distance  between two users\n",
    "    Inputs:\n",
    "    - user1(int): fist user id\n",
    "    - user2(int): second user id\n",
    "    - user_df(pandas): user feature dataframe\n",
    "    Output:\n",
    "    - cos_dist(numpy.float64): cosine distance\n",
    "    \"\"\"\n",
    "    \n",
    "    #get user rows\n",
    "    user1 = user_df.loc[user1_id]\n",
    "    user2 = user_df.loc[user2_id]\n",
    "    \n",
    "    cos_dist = 1 - spatial.distance.cosine(user1, user2)\n",
    "    \n",
    "    \n",
    "    return cos_dist"
   ]
  },
  {
   "cell_type": "code",
   "execution_count": 29,
   "metadata": {},
   "outputs": [
    {
     "data": {
      "text/plain": [
       "0.9999982548512846"
      ]
     },
     "execution_count": 29,
     "metadata": {},
     "output_type": "execute_result"
    }
   ],
   "source": [
    "#sample\n",
    "compute_similarity_cosine(42, 77)"
   ]
  },
  {
   "cell_type": "code",
   "execution_count": 30,
   "metadata": {},
   "outputs": [],
   "source": [
    "def find_most_similar(user, user_df=user_df, method='pearson', corr='pearson'):\n",
    "    \"\"\"\n",
    "    Find the most similar users to a given user id\n",
    "    Inputs:\n",
    "    - user(int): user idx\n",
    "    - user_df(pandas): features about users\n",
    "    - method(str): method to get similarity (pearson, euclid)\n",
    "    Output:\n",
    "    - most_sim_users(np.array): sorted list of most similar users\n",
    "    \"\"\"\n",
    "    \n",
    "    #store similarities here\n",
    "    sim_list= []\n",
    "\n",
    "    \n",
    "    if method =='pearson':\n",
    "        for idx in user_df.index:\n",
    "            sim = compute_similarity_corr(user, idx, user_df, corr)\n",
    "            sim_list.append(sim)\n",
    "        #convert to numpy array\n",
    "        sim_list= np.array(sim_list)\n",
    "        \n",
    "        #get ids sorted in DESCENDING order for PEARSON\n",
    "        most_sim_users = sim_list.argsort()[::-1]\n",
    "        #drop the first user\n",
    "        most_sim_users = most_sim_users[1:]\n",
    "        \n",
    "    if method =='euclid':\n",
    "        for idx in user_df.index:\n",
    "            sim = compute_similarity_euclid(user, idx)\n",
    "            sim_list.append(sim)\n",
    "        #convert to numpy array\n",
    "        sim_list= np.array(sim_list)\n",
    "        \n",
    "        #get ids sorted in ASCENDING order for EUCLIDIAN\n",
    "        most_sim_users = sim_list.argsort()\n",
    "        #drop the first user\n",
    "        most_sim_users = most_sim_users[1:]\n",
    "        \n",
    "        \n",
    "        if method =='cosine':\n",
    "            for idx in user_df.index:\n",
    "                sim = compute_similarity_cosine(user, idx)\n",
    "                sim_list.append(sim)\n",
    "            #convert to numpy array\n",
    "            sim_list= np.array(sim_list)\n",
    "\n",
    "            #get ids sorted in DESCENDING order for COSINE\n",
    "            most_sim_users = sim_list.argsort()[::-1]\n",
    "            #drop the first user\n",
    "            most_sim_users = most_sim_users[1:]\n",
    "\n",
    "        \n",
    "    return most_sim_users"
   ]
  },
  {
   "cell_type": "code",
   "execution_count": 31,
   "metadata": {},
   "outputs": [],
   "source": [
    "def make_collab_recomm(user, offers_seen_dict = offers_seen_dict,\n",
    "                       top_k = 2, user_by_item = user_by_item,\n",
    "                       user_df = user_df, method='pearson', verbose=True):\n",
    "    \n",
    "    \"\"\"\n",
    "    Make offer recommendations for a user\n",
    "    Inputs:\n",
    "    - user(int): user idx\n",
    "    - offers_seen_dict(dict): user idx as key and offers seen as values\n",
    "    - top_k(int): number of recommendations to make\n",
    "    - user_by_item(pandas): user item dataframe with users as rows, offers as columns, and times seen as values\n",
    "    - user_df(pandas): features about users\n",
    "    - method(str): method to get similarity (pearson, euclid)\n",
    "    Output:\n",
    "    - offers_to_user(list): array of offers for user\n",
    "    \n",
    "    \"\"\"\n",
    "    \n",
    "    #find the most similar users\n",
    "    sim_to_user = find_most_similar(user, user_df, method)\n",
    "    \n",
    "    #get offers seen\n",
    "    idx_seen = offers_seen_dict[user]\n",
    "    \n",
    "    if verbose:\n",
    "        print(\"Similarity measured by {}\".format(method))\n",
    "        print(\"Original user {} already saw: \\t {}\".format(user, idx_seen))\n",
    "    \n",
    "    #get number of offers already seen\n",
    "    idx_seen_len = len(idx_seen)\n",
    "    \n",
    "    #get number of offers available\n",
    "    len_available = user_by_item.shape[1]\n",
    "    \n",
    "    if top_k > (len_available - idx_seen_len):\n",
    "        print(\"Top k of {} is bigger than possible, will return only {} offers\".format(top_k, (len_available - idx_seen_len)))\n",
    "        top_k = (len_available - idx_seen_len)\n",
    "        \n",
    "    #empty set to store unique offer ids\n",
    "    proposed_offers = np.array([])\n",
    "        \n",
    "    for idx in sim_to_user:\n",
    "        idx_sim_offer = offers_seen_dict[idx]\n",
    "        \n",
    "        new_offers = (np.setdiff1d(idx_sim_offer,idx_seen))\n",
    "        \n",
    "        if verbose:\n",
    "            print(\"Similar user {} saw: \\t {}\".format(idx, idx_sim_offer))\n",
    "            print(\"Unseen offers by original user: \\t {}\".format(new_offers))\n",
    "        \n",
    "        proposed_offers = np.unique(np.concatenate([new_offers, proposed_offers], axis=0))\n",
    "        print(\"We propose so far: {}\".format(proposed_offers))\n",
    "            \n",
    "        \n",
    "        if len(proposed_offers)>top_k:\n",
    "            break\n",
    "    \n",
    "    proposed_offers = proposed_offers[0:top_k]\n",
    "    \n",
    "    if verbose:\n",
    "        print(\"\\nFor user {} we suggest offers : \\t {}\".format(user, proposed_offers))\n",
    "    \n",
    "    return proposed_offers"
   ]
  },
  {
   "cell_type": "code",
   "execution_count": 32,
   "metadata": {},
   "outputs": [
    {
     "name": "stdout",
     "output_type": "stream",
     "text": [
      "Similarity measured by pearson\n",
      "Original user 5 already saw: \t [8, 7, 2, 0]\n",
      "Similar user 6534 saw: \t [0, 8, 6, 3]\n",
      "Unseen offers by original user: \t [3 6]\n",
      "We propose so far: [3. 6.]\n",
      "Similar user 1307 saw: \t [3, 7, 6, 2]\n",
      "Unseen offers by original user: \t [3 6]\n",
      "We propose so far: [3. 6.]\n",
      "Similar user 98 saw: \t [5, 9, 1]\n",
      "Unseen offers by original user: \t [1 5 9]\n",
      "We propose so far: [1. 3. 5. 6. 9.]\n",
      "\n",
      "For user 5 we suggest offers : \t [1. 3. 5.]\n"
     ]
    },
    {
     "data": {
      "text/plain": [
       "array([1., 3., 5.])"
      ]
     },
     "execution_count": 32,
     "metadata": {},
     "output_type": "execute_result"
    }
   ],
   "source": [
    "\n",
    "#get sample output with pearson\n",
    "make_collab_recomm(5, top_k=3, verbose=True)\n"
   ]
  },
  {
   "cell_type": "code",
   "execution_count": 33,
   "metadata": {},
   "outputs": [
    {
     "name": "stdout",
     "output_type": "stream",
     "text": [
      "Similarity measured by euclid\n",
      "Original user 5 already saw: \t [8, 7, 2, 0]\n",
      "Similar user 440 saw: \t [6, 3, 2]\n",
      "Unseen offers by original user: \t [3 6]\n",
      "We propose so far: [3. 6.]\n",
      "Similar user 12411 saw: \t [6, 1, 8]\n",
      "Unseen offers by original user: \t [1 6]\n",
      "We propose so far: [1. 3. 6.]\n",
      "Similar user 10854 saw: \t [7, 6, 4, 2]\n",
      "Unseen offers by original user: \t [4 6]\n",
      "We propose so far: [1. 3. 4. 6.]\n",
      "\n",
      "For user 5 we suggest offers : \t [1. 3. 4.]\n"
     ]
    },
    {
     "data": {
      "text/plain": [
       "array([1., 3., 4.])"
      ]
     },
     "execution_count": 33,
     "metadata": {},
     "output_type": "execute_result"
    }
   ],
   "source": [
    "#sample output for euclidian distance\n",
    "make_collab_recomm(5, top_k=3, method='euclid',verbose=True)"
   ]
  },
  {
   "cell_type": "code",
   "execution_count": 34,
   "metadata": {},
   "outputs": [],
   "source": [
    "#convert user item matrix to numpy\n",
    "ratings_mat = np.array(user_by_item)"
   ]
  },
  {
   "cell_type": "code",
   "execution_count": 35,
   "metadata": {},
   "outputs": [],
   "source": [
    "def FunkSVD(ratings_mat, latent_features=4, learning_rate=0.0001, iters=100, print_every=25):\n",
    "    '''\n",
    "    This function performs matrix factorization using a basic form of FunkSVD with no regularization\n",
    "    \n",
    "    INPUT:\n",
    "    - user_by_item(df): user item dataframe with users as rows, offers as columns, and times seen as values\n",
    "    - latent_features: (int) the number of latent features used\n",
    "    - learning_rate: (float) the learning rate \n",
    "    - iters: (int) the number of iterations\n",
    "    \n",
    "    OUTPUT:\n",
    "    - user_mat(numpy.array): a user by latent feature matrix\n",
    "    - item_mat(numpy.array) a latent feature by item matrix\n",
    "    '''\n",
    "    \n",
    "    \n",
    "    # Set up useful values to be used through the rest of the function\n",
    "    n_users = ratings_mat.shape[0]\n",
    "    n_items = ratings_mat.shape[1]\n",
    "    num_ratings = np.count_nonzero(~np.isnan(ratings_mat))\n",
    "    \n",
    "    # initialize the user and item matrices with random values\n",
    "    user_mat = np.random.rand(n_users, latent_features)\n",
    "    item_mat = np.random.rand(latent_features, n_items)\n",
    "    \n",
    "    # initialize sse at 0 for first iteration\n",
    "    sse_accum = 0\n",
    "    \n",
    "    # header for running results\n",
    "    print(\"Optimizaiton Statistics\")\n",
    "    print(\"Iterations | Mean Squared Error \")\n",
    "    \n",
    "    # for each iteration\n",
    "    for iteration in range(iters):\n",
    "\n",
    "        # update our sse\n",
    "        old_sse = sse_accum\n",
    "        sse_accum = 0\n",
    "        \n",
    "        # For each user-item pair\n",
    "        for i in range(n_users):\n",
    "            for j in range(n_items):\n",
    "                \n",
    "                # if the rating exists\n",
    "                if ratings_mat[i, j] > 0:\n",
    "                    \n",
    "                    # compute the error as the actual minus the dot product of the user and item latent features\n",
    "                    diff = ratings_mat[i, j] - np.dot(user_mat[i, :], item_mat[:, j])\n",
    "                    \n",
    "                    # Keep track of the sum of squared errors for the matrix\n",
    "                    sse_accum += diff**2\n",
    "                    \n",
    "                    # update the values in each matrix in the direction of the gradient\n",
    "                    for k in range(latent_features):\n",
    "                        user_mat[i, k] += learning_rate * (2*diff*item_mat[k, j])\n",
    "                        item_mat[k, j] += learning_rate * (2*diff*user_mat[i, k])\n",
    "\n",
    "        # print results for iteration\n",
    "        if iteration % print_every ==0:\n",
    "            print(\"%d \\t\\t %f\" % (iteration, sse_accum / num_ratings))\n",
    "        \n",
    "    return user_mat, item_mat"
   ]
  },
  {
   "cell_type": "code",
   "execution_count": 36,
   "metadata": {},
   "outputs": [],
   "source": [
    "def create_train_test(reviews, training_size, testing_size):\n",
    "    '''    \n",
    "    INPUT:\n",
    "    - reviews(pandas df): dataframe to split into train and test\n",
    "    - order_by(string): column name to sort by\n",
    "    - training_size(int): number of rows in training set\n",
    "    - testing_size(int): number of columns in the test set\n",
    "    \n",
    "    OUTPUT:\n",
    "    - training_df(pandas df): dataframe of the training set\n",
    "    - validation_df(pandas df): dataframe of the test set\n",
    "    '''\n",
    "    reviews_new = reviews.copy()\n",
    "    training_df = reviews_new.head(training_size)\n",
    "    validation_df = reviews_new.iloc[training_size:training_size+testing_size]\n",
    "    \n",
    "    return training_df, validation_df"
   ]
  },
  {
   "cell_type": "code",
   "execution_count": 37,
   "metadata": {},
   "outputs": [
    {
     "data": {
      "text/html": [
       "<div>\n",
       "<style scoped>\n",
       "    .dataframe tbody tr th:only-of-type {\n",
       "        vertical-align: middle;\n",
       "    }\n",
       "\n",
       "    .dataframe tbody tr th {\n",
       "        vertical-align: top;\n",
       "    }\n",
       "\n",
       "    .dataframe thead th {\n",
       "        text-align: right;\n",
       "    }\n",
       "</style>\n",
       "<table border=\"1\" class=\"dataframe\">\n",
       "  <thead>\n",
       "    <tr style=\"text-align: right;\">\n",
       "      <th></th>\n",
       "      <th>person</th>\n",
       "      <th>offer_id</th>\n",
       "      <th>offer viewed</th>\n",
       "    </tr>\n",
       "  </thead>\n",
       "  <tbody>\n",
       "    <tr>\n",
       "      <td>61215</td>\n",
       "      <td>16439</td>\n",
       "      <td>6</td>\n",
       "      <td>1</td>\n",
       "    </tr>\n",
       "    <tr>\n",
       "      <td>52925</td>\n",
       "      <td>14200</td>\n",
       "      <td>4</td>\n",
       "      <td>1</td>\n",
       "    </tr>\n",
       "    <tr>\n",
       "      <td>18851</td>\n",
       "      <td>5067</td>\n",
       "      <td>2</td>\n",
       "      <td>0</td>\n",
       "    </tr>\n",
       "    <tr>\n",
       "      <td>11497</td>\n",
       "      <td>3101</td>\n",
       "      <td>0</td>\n",
       "      <td>0</td>\n",
       "    </tr>\n",
       "    <tr>\n",
       "      <td>47586</td>\n",
       "      <td>12761</td>\n",
       "      <td>6</td>\n",
       "      <td>1</td>\n",
       "    </tr>\n",
       "  </tbody>\n",
       "</table>\n",
       "</div>"
      ],
      "text/plain": [
       "       person  offer_id  offer viewed\n",
       "61215   16439         6             1\n",
       "52925   14200         4             1\n",
       "18851    5067         2             0\n",
       "11497    3101         0             0\n",
       "47586   12761         6             1"
      ]
     },
     "execution_count": 37,
     "metadata": {},
     "output_type": "execute_result"
    }
   ],
   "source": [
    "#make train and valid sets from df below\n",
    "user_views.head()"
   ]
  },
  {
   "cell_type": "code",
   "execution_count": 38,
   "metadata": {},
   "outputs": [
    {
     "data": {
      "text/plain": [
       "(63288, 3)"
      ]
     },
     "execution_count": 38,
     "metadata": {},
     "output_type": "execute_result"
    }
   ],
   "source": [
    "user_views.shape"
   ]
  },
  {
   "cell_type": "code",
   "execution_count": 39,
   "metadata": {},
   "outputs": [],
   "source": [
    "train_df, val_df = create_train_test(user_views, 55000, 5000)"
   ]
  },
  {
   "cell_type": "code",
   "execution_count": 40,
   "metadata": {},
   "outputs": [
    {
     "data": {
      "text/html": [
       "<div>\n",
       "<style scoped>\n",
       "    .dataframe tbody tr th:only-of-type {\n",
       "        vertical-align: middle;\n",
       "    }\n",
       "\n",
       "    .dataframe tbody tr th {\n",
       "        vertical-align: top;\n",
       "    }\n",
       "\n",
       "    .dataframe thead th {\n",
       "        text-align: right;\n",
       "    }\n",
       "</style>\n",
       "<table border=\"1\" class=\"dataframe\">\n",
       "  <thead>\n",
       "    <tr style=\"text-align: right;\">\n",
       "      <th></th>\n",
       "      <th>person</th>\n",
       "      <th>offer_id</th>\n",
       "      <th>offer viewed</th>\n",
       "    </tr>\n",
       "  </thead>\n",
       "  <tbody>\n",
       "    <tr>\n",
       "      <td>61215</td>\n",
       "      <td>16439</td>\n",
       "      <td>6</td>\n",
       "      <td>1</td>\n",
       "    </tr>\n",
       "    <tr>\n",
       "      <td>52925</td>\n",
       "      <td>14200</td>\n",
       "      <td>4</td>\n",
       "      <td>1</td>\n",
       "    </tr>\n",
       "    <tr>\n",
       "      <td>18851</td>\n",
       "      <td>5067</td>\n",
       "      <td>2</td>\n",
       "      <td>0</td>\n",
       "    </tr>\n",
       "    <tr>\n",
       "      <td>11497</td>\n",
       "      <td>3101</td>\n",
       "      <td>0</td>\n",
       "      <td>0</td>\n",
       "    </tr>\n",
       "    <tr>\n",
       "      <td>47586</td>\n",
       "      <td>12761</td>\n",
       "      <td>6</td>\n",
       "      <td>1</td>\n",
       "    </tr>\n",
       "  </tbody>\n",
       "</table>\n",
       "</div>"
      ],
      "text/plain": [
       "       person  offer_id  offer viewed\n",
       "61215   16439         6             1\n",
       "52925   14200         4             1\n",
       "18851    5067         2             0\n",
       "11497    3101         0             0\n",
       "47586   12761         6             1"
      ]
     },
     "execution_count": 40,
     "metadata": {},
     "output_type": "execute_result"
    }
   ],
   "source": [
    "train_df.head()\n"
   ]
  },
  {
   "cell_type": "code",
   "execution_count": 41,
   "metadata": {},
   "outputs": [
    {
     "data": {
      "text/html": [
       "<div>\n",
       "<style scoped>\n",
       "    .dataframe tbody tr th:only-of-type {\n",
       "        vertical-align: middle;\n",
       "    }\n",
       "\n",
       "    .dataframe tbody tr th {\n",
       "        vertical-align: top;\n",
       "    }\n",
       "\n",
       "    .dataframe thead th {\n",
       "        text-align: right;\n",
       "    }\n",
       "</style>\n",
       "<table border=\"1\" class=\"dataframe\">\n",
       "  <thead>\n",
       "    <tr style=\"text-align: right;\">\n",
       "      <th></th>\n",
       "      <th>person</th>\n",
       "      <th>offer_id</th>\n",
       "      <th>offer viewed</th>\n",
       "    </tr>\n",
       "  </thead>\n",
       "  <tbody>\n",
       "    <tr>\n",
       "      <td>2399</td>\n",
       "      <td>648</td>\n",
       "      <td>8</td>\n",
       "      <td>1</td>\n",
       "    </tr>\n",
       "    <tr>\n",
       "      <td>1596</td>\n",
       "      <td>429</td>\n",
       "      <td>6</td>\n",
       "      <td>1</td>\n",
       "    </tr>\n",
       "    <tr>\n",
       "      <td>40812</td>\n",
       "      <td>10940</td>\n",
       "      <td>8</td>\n",
       "      <td>0</td>\n",
       "    </tr>\n",
       "    <tr>\n",
       "      <td>17391</td>\n",
       "      <td>4676</td>\n",
       "      <td>5</td>\n",
       "      <td>1</td>\n",
       "    </tr>\n",
       "    <tr>\n",
       "      <td>52835</td>\n",
       "      <td>14173</td>\n",
       "      <td>9</td>\n",
       "      <td>0</td>\n",
       "    </tr>\n",
       "  </tbody>\n",
       "</table>\n",
       "</div>"
      ],
      "text/plain": [
       "       person  offer_id  offer viewed\n",
       "2399      648         8             1\n",
       "1596      429         6             1\n",
       "40812   10940         8             0\n",
       "17391    4676         5             1\n",
       "52835   14173         9             0"
      ]
     },
     "execution_count": 41,
     "metadata": {},
     "output_type": "execute_result"
    }
   ],
   "source": [
    "val_df.head()\n"
   ]
  },
  {
   "cell_type": "code",
   "execution_count": 42,
   "metadata": {},
   "outputs": [
    {
     "data": {
      "text/html": [
       "<div>\n",
       "<style scoped>\n",
       "    .dataframe tbody tr th:only-of-type {\n",
       "        vertical-align: middle;\n",
       "    }\n",
       "\n",
       "    .dataframe tbody tr th {\n",
       "        vertical-align: top;\n",
       "    }\n",
       "\n",
       "    .dataframe thead th {\n",
       "        text-align: right;\n",
       "    }\n",
       "</style>\n",
       "<table border=\"1\" class=\"dataframe\">\n",
       "  <thead>\n",
       "    <tr style=\"text-align: right;\">\n",
       "      <th>offer_id</th>\n",
       "      <th>0</th>\n",
       "      <th>1</th>\n",
       "      <th>2</th>\n",
       "      <th>3</th>\n",
       "      <th>4</th>\n",
       "      <th>5</th>\n",
       "      <th>6</th>\n",
       "      <th>7</th>\n",
       "      <th>8</th>\n",
       "      <th>9</th>\n",
       "    </tr>\n",
       "    <tr>\n",
       "      <th>person</th>\n",
       "      <th></th>\n",
       "      <th></th>\n",
       "      <th></th>\n",
       "      <th></th>\n",
       "      <th></th>\n",
       "      <th></th>\n",
       "      <th></th>\n",
       "      <th></th>\n",
       "      <th></th>\n",
       "      <th></th>\n",
       "    </tr>\n",
       "  </thead>\n",
       "  <tbody>\n",
       "    <tr>\n",
       "      <td>0</td>\n",
       "      <td>NaN</td>\n",
       "      <td>NaN</td>\n",
       "      <td>NaN</td>\n",
       "      <td>NaN</td>\n",
       "      <td>1.0</td>\n",
       "      <td>NaN</td>\n",
       "      <td>NaN</td>\n",
       "      <td>2.0</td>\n",
       "      <td>1.0</td>\n",
       "      <td>1.0</td>\n",
       "    </tr>\n",
       "    <tr>\n",
       "      <td>1</td>\n",
       "      <td>0.0</td>\n",
       "      <td>NaN</td>\n",
       "      <td>0.0</td>\n",
       "      <td>NaN</td>\n",
       "      <td>NaN</td>\n",
       "      <td>NaN</td>\n",
       "      <td>NaN</td>\n",
       "      <td>NaN</td>\n",
       "      <td>NaN</td>\n",
       "      <td>NaN</td>\n",
       "    </tr>\n",
       "    <tr>\n",
       "      <td>2</td>\n",
       "      <td>NaN</td>\n",
       "      <td>1.0</td>\n",
       "      <td>1.0</td>\n",
       "      <td>NaN</td>\n",
       "      <td>NaN</td>\n",
       "      <td>NaN</td>\n",
       "      <td>NaN</td>\n",
       "      <td>NaN</td>\n",
       "      <td>NaN</td>\n",
       "      <td>NaN</td>\n",
       "    </tr>\n",
       "    <tr>\n",
       "      <td>3</td>\n",
       "      <td>NaN</td>\n",
       "      <td>1.0</td>\n",
       "      <td>1.0</td>\n",
       "      <td>1.0</td>\n",
       "      <td>NaN</td>\n",
       "      <td>1.0</td>\n",
       "      <td>NaN</td>\n",
       "      <td>NaN</td>\n",
       "      <td>NaN</td>\n",
       "      <td>NaN</td>\n",
       "    </tr>\n",
       "    <tr>\n",
       "      <td>4</td>\n",
       "      <td>NaN</td>\n",
       "      <td>0.0</td>\n",
       "      <td>NaN</td>\n",
       "      <td>NaN</td>\n",
       "      <td>NaN</td>\n",
       "      <td>NaN</td>\n",
       "      <td>NaN</td>\n",
       "      <td>NaN</td>\n",
       "      <td>NaN</td>\n",
       "      <td>NaN</td>\n",
       "    </tr>\n",
       "  </tbody>\n",
       "</table>\n",
       "</div>"
      ],
      "text/plain": [
       "offer_id    0    1    2    3    4    5   6    7    8    9\n",
       "person                                                   \n",
       "0         NaN  NaN  NaN  NaN  1.0  NaN NaN  2.0  1.0  1.0\n",
       "1         0.0  NaN  0.0  NaN  NaN  NaN NaN  NaN  NaN  NaN\n",
       "2         NaN  1.0  1.0  NaN  NaN  NaN NaN  NaN  NaN  NaN\n",
       "3         NaN  1.0  1.0  1.0  NaN  1.0 NaN  NaN  NaN  NaN\n",
       "4         NaN  0.0  NaN  NaN  NaN  NaN NaN  NaN  NaN  NaN"
      ]
     },
     "execution_count": 42,
     "metadata": {},
     "output_type": "execute_result"
    }
   ],
   "source": [
    "# Create user-by-item matrix \n",
    "train_user_item = train_df[['person', 'offer_id', 'offer viewed']]\n",
    "train_data_df = train_user_item.groupby(['person', 'offer_id'])['offer viewed'].max().unstack()\n",
    "train_data_np = np.array(train_data_df)\n",
    "\n",
    "train_data_df.head()"
   ]
  },
  {
   "cell_type": "code",
   "execution_count": 43,
   "metadata": {},
   "outputs": [
    {
     "name": "stdout",
     "output_type": "stream",
     "text": [
      "Optimizaiton Statistics\n",
      "Iterations | Mean Squared Error \n",
      "0 \t\t 0.216661\n",
      "25 \t\t 0.140184\n",
      "50 \t\t 0.123270\n",
      "75 \t\t 0.104310\n",
      "100 \t\t 0.079940\n",
      "125 \t\t 0.052530\n"
     ]
    }
   ],
   "source": [
    "# Fit FunkSVD with the specified hyper parameters to the training data\n",
    "k = 25\n",
    "lr = 0.005\n",
    "\n",
    "\n",
    "user_mat, item_mat = FunkSVD(train_data_np, latent_features=k, learning_rate=lr, iters=150)"
   ]
  },
  {
   "cell_type": "code",
   "execution_count": 44,
   "metadata": {},
   "outputs": [],
   "source": [
    "def predict_rating(user_matrix, item_matrix, user_id, item_id, train_data_df = train_data_df):\n",
    "    '''\n",
    "    INPUT:\n",
    "    - user_matrix(numpy.array): user by latent factor matrix\n",
    "    - item_matrix(numpy.array): latent factor by item matrix\n",
    "    - user_id(int): the user id\n",
    "    - item(int): the item id according the  df\n",
    "    - train_data_df(pandas):\n",
    "    \n",
    "    OUTPUT:\n",
    "    - pred(int): the predicted rating for user_id-item_id according to FunkSVD\n",
    "    '''\n",
    "    # Use the training data to create a series of users and items that matches the ordering in training data\n",
    "    user_ids_series = np.array(train_data_df.index)\n",
    "    item_ids_series = np.array(train_data_df.columns)\n",
    "    \n",
    "    # User row and items Column\n",
    "    user_row = np.where(user_ids_series == user_id)[0][0]\n",
    "    item_col = np.where(item_ids_series == item_id)[0][0]\n",
    "    \n",
    "    # Take dot product of that row and column in U and V to make prediction\n",
    "    pred = np.dot(user_matrix[user_row, :], item_matrix[:, item_col])\n",
    "    \n",
    "    #round because we are dealing with integers\n",
    "    \n",
    "    return pred"
   ]
  },
  {
   "cell_type": "code",
   "execution_count": 45,
   "metadata": {},
   "outputs": [
    {
     "data": {
      "text/plain": [
       "1.172310450118911"
      ]
     },
     "execution_count": 45,
     "metadata": {},
     "output_type": "execute_result"
    }
   ],
   "source": [
    "#sample output\n",
    "predict_rating(user_mat, item_mat, 2, 2)"
   ]
  },
  {
   "cell_type": "code",
   "execution_count": 46,
   "metadata": {},
   "outputs": [
    {
     "data": {
      "text/plain": [
       "1.3360505830412008"
      ]
     },
     "execution_count": 46,
     "metadata": {},
     "output_type": "execute_result"
    }
   ],
   "source": [
    "#more outputs\n",
    "predict_rating(user_mat, item_mat, 2000, 9)\n"
   ]
  },
  {
   "cell_type": "code",
   "execution_count": 47,
   "metadata": {},
   "outputs": [],
   "source": [
    "def validation_comparison(val_df, user_mat=user_mat, item_mat=item_mat):\n",
    "    '''\n",
    "    INPUT:\n",
    "    - val_df(pandas): the validation dataset created in the third cell above\n",
    "    - user_mat(numpy.array): U matrix in FunkSVD\n",
    "    - item_mat(numpy.array): V matrix in FunkSVD\n",
    "        \n",
    "    OUTPUT:\n",
    "    - rmse(float) RMSE of how far off each value is from it's predicted value\n",
    "    - perc_rated(float) percent of predictions out of all possible that could be rated\n",
    "    - actual_v_pred(numpy.array) a 10 x 10 grid with counts for actual vs predicted values\n",
    "    '''\n",
    "        \n",
    "    val_users = np.array(val_df['person'])\n",
    "    val_items = np.array(val_df['offer_id'])\n",
    "    val_ratings = np.array(val_df['offer viewed'])\n",
    "    \n",
    "    sse = 0\n",
    "    num_rated = 0\n",
    "    preds, acts = [], []\n",
    "    actual_v_pred = np.zeros((10,10))\n",
    "    for idx in range(len(val_users)):\n",
    "        try:\n",
    "            pred = predict_rating(user_mat, item_mat, val_users[idx], val_items[idx])\n",
    "            sse += (val_ratings[idx] - pred)**2\n",
    "            num_rated+=1\n",
    "            preds.append(pred)\n",
    "            acts.append(val_ratings[idx])\n",
    "            actual_v_pred[11-int(val_ratings[idx]-1), int(round(pred)-1)]+=1\n",
    "        \n",
    "        except:\n",
    "            continue\n",
    "    \n",
    "    rmse = np.sqrt(sse/num_rated)\n",
    "    perc_rated = num_rated/len(val_users)\n",
    "    return rmse, perc_rated, actual_v_pred, preds, acts"
   ]
  },
  {
   "cell_type": "code",
   "execution_count": 48,
   "metadata": {},
   "outputs": [],
   "source": [
    "rmse, perc_rated, actual_v_pred, preds, acts = validation_comparison(val_df)\n"
   ]
  },
  {
   "cell_type": "code",
   "execution_count": 49,
   "metadata": {},
   "outputs": [
    {
     "data": {
      "image/png": "[encoded data removed]",
      "text/plain": [
       "<Figure size 576x576 with 1 Axes>"
      ]
     },
     "metadata": {
      "needs_background": "light"
     },
     "output_type": "display_data"
    }
   ],
   "source": [
    "make_svd_hist_plot(k, lr, acts, preds)\n"
   ]
  },
  {
   "cell_type": "code",
   "execution_count": 50,
   "metadata": {},
   "outputs": [
    {
     "name": "stdout",
     "output_type": "stream",
     "text": [
      "Confusion matrix, without normalization\n",
      "Confusion Matrix: \n",
      "[[   8  948  143    0    0    0]\n",
      " [  86 2528  612    2    0    0]\n",
      " [  26  417  108    1    0    0]\n",
      " [   2   49    2    0    0    0]\n",
      " [   0    2    1    0    0    0]\n",
      " [   0    1    0    0    0    0]]\n",
      "Plotted confusion matrix\n"
     ]
    },
    {
     "data": {
      "image/png": "[encoded data removed]",
      "text/plain": [
       "<Figure size 432x288 with 2 Axes>"
      ]
     },
     "metadata": {
      "needs_background": "light"
     },
     "output_type": "display_data"
    },
    {
     "data": {
      "text/plain": [
       "<matplotlib.axes._subplots.AxesSubplot at 0x11ecb2750>"
      ]
     },
     "execution_count": 50,
     "metadata": {},
     "output_type": "execute_result"
    }
   ],
   "source": [
    "plot_confusion_matrix(acts, np.round(preds), title=\"FunkSVD Confusion Matrix, k={}, lr={}\".format(k,lr),normalize=False)\n"
   ]
  },
  {
   "cell_type": "code",
   "execution_count": 51,
   "metadata": {},
   "outputs": [
    {
     "data": {
      "image/png": "[encoded data removed]",
      "text/plain": [
       "<Figure size 432x288 with 2 Axes>"
      ]
     },
     "metadata": {
      "needs_background": "light"
     },
     "output_type": "display_data"
    }
   ],
   "source": [
    "make_svd_heatmap_plot(k, lr, actual_v_pred)\n"
   ]
  },
  {
   "cell_type": "code",
   "execution_count": 52,
   "metadata": {},
   "outputs": [
    {
     "name": "stdout",
     "output_type": "stream",
     "text": [
      "Evaluation for k=25 and lr=0.005\n",
      "Optimizaiton Statistics\n",
      "Iterations | Mean Squared Error \n",
      "0 \t\t 0.227941\n",
      "25 \t\t 0.139666\n",
      "50 \t\t 0.121801\n",
      "75 \t\t 0.100854\n",
      "100 \t\t 0.074009\n",
      "125 \t\t 0.045873\n",
      "150 \t\t 0.024735\n",
      "175 \t\t 0.012457\n",
      "Confusion matrix, without normalization\n",
      "Confusion Matrix: \n",
      "[[  18  856  225    0    0    0]\n",
      " [ 136 2362  727    3    0    0]\n",
      " [  19  405  128    0    0    0]\n",
      " [   4   37   12    0    0    0]\n",
      " [   0    3    0    0    0    0]\n",
      " [   0    0    1    0    0    0]]\n",
      "Plotted confusion matrix\n"
     ]
    },
    {
     "data": {
      "image/png": "[encoded data removed]",
      "text/plain": [
       "<Figure size 432x288 with 2 Axes>"
      ]
     },
     "metadata": {
      "needs_background": "light"
     },
     "output_type": "display_data"
    },
    {
     "data": {
      "image/png": "[encoded data removed]",
      "text/plain": [
       "<Figure size 576x576 with 1 Axes>"
      ]
     },
     "metadata": {
      "needs_background": "light"
     },
     "output_type": "display_data"
    },
    {
     "data": {
      "image/png": "[encoded data removed]",
      "text/plain": [
       "<Figure size 432x288 with 2 Axes>"
      ]
     },
     "metadata": {
      "needs_background": "light"
     },
     "output_type": "display_data"
    },
    {
     "name": "stdout",
     "output_type": "stream",
     "text": [
      "Evaluation for k=30 and lr=0.005\n",
      "Optimizaiton Statistics\n",
      "Iterations | Mean Squared Error \n",
      "0 \t\t 0.236153\n",
      "25 \t\t 0.141428\n",
      "50 \t\t 0.123384\n",
      "75 \t\t 0.099445\n",
      "100 \t\t 0.068286\n",
      "125 \t\t 0.038760\n",
      "150 \t\t 0.019433\n",
      "175 \t\t 0.009382\n",
      "Confusion matrix, without normalization\n",
      "Confusion Matrix: \n",
      "[[  45  863  191    0    0    0]\n",
      " [ 164 2415  646    3    0    0]\n",
      " [  24  428   99    1    0    0]\n",
      " [   4   35   14    0    0    0]\n",
      " [   0    3    0    0    0    0]\n",
      " [   0    1    0    0    0    0]]\n",
      "Plotted confusion matrix\n"
     ]
    },
    {
     "data": {
      "image/png": "[encoded data removed]",
      "text/plain": [
       "<Figure size 432x288 with 2 Axes>"
      ]
     },
     "metadata": {
      "needs_background": "light"
     },
     "output_type": "display_data"
    },
    {
     "data": {
      "image/png": "[encoded data removed]",
      "text/plain": [
       "<Figure size 576x576 with 1 Axes>"
      ]
     },
     "metadata": {
      "needs_background": "light"
     },
     "output_type": "display_data"
    },
    {
     "data": {
      "image/png": "[encoded data removed]",
      "text/plain": [
       "<Figure size 432x288 with 2 Axes>"
      ]
     },
     "metadata": {
      "needs_background": "light"
     },
     "output_type": "display_data"
    },
    {
     "name": "stdout",
     "output_type": "stream",
     "text": [
      "Evaluation for k=35 and lr=0.005\n",
      "Optimizaiton Statistics\n",
      "Iterations | Mean Squared Error \n",
      "0 \t\t 0.251198\n",
      "25 \t\t 0.141976\n",
      "50 \t\t 0.124531\n",
      "75 \t\t 0.099184\n",
      "100 \t\t 0.065275\n",
      "125 \t\t 0.034444\n",
      "150 \t\t 0.015882\n",
      "175 \t\t 0.007106\n",
      "Confusion matrix, without normalization\n",
      "Confusion Matrix: \n",
      "[[  34  815  247    3    0    0]\n",
      " [ 141 2292  791    4    0    0]\n",
      " [  31  376  145    0    0    0]\n",
      " [   2   40   11    0    0    0]\n",
      " [   1    2    0    0    0    0]\n",
      " [   0    0    1    0    0    0]]\n",
      "Plotted confusion matrix\n"
     ]
    },
    {
     "data": {
      "image/png": "[encoded data removed]",
      "text/plain": [
       "<Figure size 432x288 with 2 Axes>"
      ]
     },
     "metadata": {
      "needs_background": "light"
     },
     "output_type": "display_data"
    },
    {
     "data": {
      "image/png": "[encoded data removed]",
      "text/plain": [
       "<Figure size 576x576 with 1 Axes>"
      ]
     },
     "metadata": {
      "needs_background": "light"
     },
     "output_type": "display_data"
    },
    {
     "data": {
      "image/png": "[encoded data removed]",
      "text/plain": [
       "<Figure size 432x288 with 2 Axes>"
      ]
     },
     "metadata": {
      "needs_background": "light"
     },
     "output_type": "display_data"
    },
    {
     "name": "stdout",
     "output_type": "stream",
     "text": [
      "Evaluation for k=25 and lr=0.008\n",
      "Optimizaiton Statistics\n",
      "Iterations | Mean Squared Error \n",
      "0 \t\t 0.209060\n",
      "25 \t\t 0.132066\n",
      "50 \t\t 0.097697\n",
      "75 \t\t 0.053134\n",
      "100 \t\t 0.020481\n",
      "125 \t\t 0.007145\n",
      "150 \t\t 0.002685\n",
      "175 \t\t 0.001154\n",
      "Confusion matrix, without normalization\n",
      "Confusion Matrix: \n",
      "[[  45  854  200    0    0    0]\n",
      " [ 157 2309  753    9    0    0]\n",
      " [  33  398  120    1    0    0]\n",
      " [   5   32   16    0    0    0]\n",
      " [   0    3    0    0    0    0]\n",
      " [   0    1    0    0    0    0]]\n",
      "Plotted confusion matrix\n"
     ]
    },
    {
     "data": {
      "image/png": "[encoded data removed]",
      "text/plain": [
       "<Figure size 432x288 with 2 Axes>"
      ]
     },
     "metadata": {
      "needs_background": "light"
     },
     "output_type": "display_data"
    },
    {
     "data": {
      "image/png": "[encoded data removed]",
      "text/plain": [
       "<Figure size 576x576 with 1 Axes>"
      ]
     },
     "metadata": {
      "needs_background": "light"
     },
     "output_type": "display_data"
    },
    {
     "data": {
      "image/png": "[encoded data removed]",
      "text/plain": [
       "<Figure size 432x288 with 2 Axes>"
      ]
     },
     "metadata": {
      "needs_background": "light"
     },
     "output_type": "display_data"
    },
    {
     "name": "stdout",
     "output_type": "stream",
     "text": [
      "Evaluation for k=30 and lr=0.008\n",
      "Optimizaiton Statistics\n",
      "Iterations | Mean Squared Error \n",
      "0 \t\t 0.213467\n",
      "25 \t\t 0.134284\n",
      "50 \t\t 0.094190\n",
      "75 \t\t 0.044118\n",
      "100 \t\t 0.015436\n",
      "125 \t\t 0.005297\n",
      "150 \t\t 0.002027\n",
      "175 \t\t 0.000905\n",
      "Confusion matrix, without normalization\n",
      "Confusion Matrix: \n",
      "[[  36  857  206    0    0    0]\n",
      " [ 194 2365  665    4    0    0]\n",
      " [  36  414  102    0    0    0]\n",
      " [   3   43    7    0    0    0]\n",
      " [   0    2    1    0    0    0]\n",
      " [   0    1    0    0    0    0]]\n",
      "Plotted confusion matrix\n"
     ]
    },
    {
     "data": {
      "image/png": "[encoded data removed]",
      "text/plain": [
       "<Figure size 432x288 with 2 Axes>"
      ]
     },
     "metadata": {
      "needs_background": "light"
     },
     "output_type": "display_data"
    },
    {
     "data": {
      "image/png": "[encoded data removed]",
      "text/plain": [
       "<Figure size 576x576 with 1 Axes>"
      ]
     },
     "metadata": {
      "needs_background": "light"
     },
     "output_type": "display_data"
    },
    {
     "data": {
      "image/png": "[encoded data removed]",
      "text/plain": [
       "<Figure size 432x288 with 2 Axes>"
      ]
     },
     "metadata": {
      "needs_background": "light"
     },
     "output_type": "display_data"
    },
    {
     "name": "stdout",
     "output_type": "stream",
     "text": [
      "Evaluation for k=35 and lr=0.008\n",
      "Optimizaiton Statistics\n",
      "Iterations | Mean Squared Error \n",
      "0 \t\t 0.235412\n",
      "25 \t\t 0.136883\n",
      "50 \t\t 0.094029\n",
      "75 \t\t 0.041080\n",
      "100 \t\t 0.013935\n",
      "125 \t\t 0.004969\n",
      "150 \t\t 0.002011\n",
      "175 \t\t 0.000938\n",
      "Confusion matrix, without normalization\n",
      "Confusion Matrix: \n",
      "[[  39  839  219    2    0    0]\n",
      " [ 139 2284  797    8    0    0]\n",
      " [  36  377  139    0    0    0]\n",
      " [   1   39   13    0    0    0]\n",
      " [   0    2    1    0    0    0]\n",
      " [   0    0    1    0    0    0]]\n",
      "Plotted confusion matrix\n"
     ]
    },
    {
     "data": {
      "image/png": "[encoded data removed]",
      "text/plain": [
       "<Figure size 432x288 with 2 Axes>"
      ]
     },
     "metadata": {
      "needs_background": "light"
     },
     "output_type": "display_data"
    },
    {
     "data": {
      "image/png": "[encoded data removed]",
      "text/plain": [
       "<Figure size 576x576 with 1 Axes>"
      ]
     },
     "metadata": {
      "needs_background": "light"
     },
     "output_type": "display_data"
    },
    {
     "data": {
      "image/png": "[encoded data removed]",
      "text/plain": [
       "<Figure size 432x288 with 2 Axes>"
      ]
     },
     "metadata": {
      "needs_background": "light"
     },
     "output_type": "display_data"
    },
    {
     "name": "stdout",
     "output_type": "stream",
     "text": [
      "\n",
      "\n",
      "best_k = \t30\n",
      "best_lr= \t0.005\n",
      "best_rmse =  \t0.7687\n"
     ]
    }
   ],
   "source": [
    "k_grid = [25, 30, 35]\n",
    "lr_grid = [0.005, 0.008]\n",
    "\n",
    "#placeholder value\n",
    "best_k =0\n",
    "best_lr=0\n",
    "best_rmse = np.inf\n",
    "best_perc_rated = None\n",
    "best_user_mat= None\n",
    "best_item_mat = None\n",
    "best_actual_v_pred = None\n",
    "best_preds = None\n",
    "best_acts = None\n",
    "\n",
    "for lr in lr_grid:\n",
    "    for k in k_grid:\n",
    "        print(\"Evaluation for k={} and lr={}\".format(k, lr))\n",
    "        \n",
    "        user_mat_test, item_mat_test = FunkSVD(train_data_np, latent_features=k, learning_rate=lr, iters=200)\n",
    "        rmse, perc_rated, actual_v_pred, preds, acts = validation_comparison(val_df, user_mat_test, item_mat_test)\n",
    "        \n",
    "        #record with plots\n",
    "        title = 'FunkSVD Confusion Matrix, k={}, lr={}'.format(k, lr)\n",
    "        save_path = \"plots/svd_cm_\"+\"lr\"+str(best_lr)+\"_k\"+str(best_k)+\".png\"\n",
    "        plot_confusion_matrix(acts, np.round(preds), normalize=False, title=title, saveloc = save_path)  \n",
    "        \n",
    "        make_svd_hist_plot(k, lr, acts, preds)\n",
    "        make_svd_heatmap_plot(k, lr, actual_v_pred)\n",
    "              \n",
    "\n",
    "        #update params if improved\n",
    "        if rmse < best_rmse:\n",
    "            #update score\n",
    "            best_rmse = rmse\n",
    "            #update params\n",
    "            best_k = k\n",
    "            best_lr=lr\n",
    "            \n",
    "            #store best results\n",
    "            best_perc_rated = perc_rated\n",
    "            best_user_mat= user_mat_test\n",
    "            best_item_mat = item_mat_test\n",
    "            best_actual_v_pred = actual_v_pred\n",
    "            best_preds = preds\n",
    "            best_acts = acts\n",
    "\n",
    "print(\"\\n\")        \n",
    "print(\"best_k = \\t{}\".format(best_k))\n",
    "print(\"best_lr= \\t{}\".format(best_lr))\n",
    "print(\"best_rmse =  \\t{:.4f}\".format(best_rmse))"
   ]
  },
  {
   "cell_type": "code",
   "execution_count": 53,
   "metadata": {},
   "outputs": [
    {
     "data": {
      "text/plain": [
       "0.9872"
      ]
     },
     "execution_count": 53,
     "metadata": {},
     "output_type": "execute_result"
    }
   ],
   "source": [
    "#see how many users we could predit for\n",
    "best_perc_rated"
   ]
  }
 ],
 "metadata": {
  "kernelspec": {
   "display_name": "Python 3",
   "language": "python",
   "name": "python3"
  },
  "language_info": {
   "codemirror_mode": {
    "name": "ipython",
    "version": 3
   },
   "file_extension": ".py",
   "mimetype": "text/x-python",
   "name": "python",
   "nbconvert_exporter": "python",
   "pygments_lexer": "ipython3",
   "version": "3.7.4"
  }
 },
 "nbformat": 4,
 "nbformat_minor": 4
}
